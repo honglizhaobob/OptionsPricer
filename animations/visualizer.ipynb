{
 "cells": [
  {
   "cell_type": "markdown",
   "id": "255ae26a-f105-49fa-b380-38b3223f0a39",
   "metadata": {},
   "source": [
    "### Visualizing Options Pricer"
   ]
  },
  {
   "cell_type": "code",
   "execution_count": 12,
   "id": "fe3dd410-f47f-4148-88ed-a8a0ac83091e",
   "metadata": {},
   "outputs": [
    {
     "data": {
      "image/png": "[encoded data removed]",
      "text/plain": [
       "<Figure size 800x600 with 1 Axes>"
      ]
     },
     "metadata": {},
     "output_type": "display_data"
    }
   ],
   "source": [
    "import numpy as np\n",
    "import matplotlib.pyplot as plt\n",
    "from matplotlib.animation import FuncAnimation\n",
    "from matplotlib.patches import FancyArrowPatch\n",
    "from matplotlib.animation import PillowWriter\n",
    "from IPython.display import HTML\n",
    "\n",
    "# parameters for option pricing\n",
    "S0 = 100\n",
    "K = 100\n",
    "T = 1     # time to maturity (in years)\n",
    "r = 0.1  # risk-free rate\n",
    "sigma = 0.2  # volatility\n",
    "n_steps = 12  # number of time steps in binomial tree\n",
    "\n",
    "# binomial tree model for american option pricing\n",
    "def binomial_tree_american(S0, K, T, r, sigma, n_steps):\n",
    "    # time step size\n",
    "    dt = T / n_steps\n",
    "    # up and down factors\n",
    "    u = np.exp(sigma * np.sqrt(dt))\n",
    "    d = 1 / u\n",
    "    # risk-neutral probability\n",
    "    p = (np.exp(r * dt) - d) / (u - d)\n",
    "\n",
    "    # create stock and option trees\n",
    "    stock_tree = np.zeros((n_steps + 1, n_steps + 1))\n",
    "    option_tree = np.zeros((n_steps + 1, n_steps + 1))\n",
    "\n",
    "    # calculate stock prices at each node\n",
    "    for i in range(n_steps + 1):\n",
    "        for j in range(i + 1):\n",
    "            stock_tree[j, i] = S0 * (u ** (i - j)) * (d ** j)\n",
    "\n",
    "    # calculate option payoff at maturity\n",
    "    for j in range(n_steps + 1):\n",
    "        option_tree[j, n_steps] = max(stock_tree[j, n_steps] - K, 0)\n",
    "\n",
    "    # work backwards to price the option\n",
    "    for i in range(n_steps - 1, -1, -1):\n",
    "        for j in range(i + 1):\n",
    "            exercise = max(stock_tree[j, i] - K, 0)\n",
    "            hold = np.exp(-r * dt) * (p * option_tree[j, i + 1] + (1 - p) * option_tree[j + 1, i + 1])\n",
    "            option_tree[j, i] = max(exercise, hold)\n",
    "\n",
    "    return stock_tree, option_tree\n",
    "\n",
    "# visualization\n",
    "def create_option_pricing_gif():\n",
    "    # generate binomial tree for stock and option prices\n",
    "    stock_tree, option_tree = binomial_tree_american(S0, K, T, r, sigma, n_steps)\n",
    "\n",
    "    fig, ax = plt.subplots(figsize=(8, 6))\n",
    "\n",
    "    def update(frame):\n",
    "        ax.clear()\n",
    "        ax.set_title(f\"Binomial Model, Iteration = {frame}\", fontsize=14)\n",
    "        ax.set_xlabel(\"time steps\", fontsize=12)\n",
    "        ax.set_ylabel(\"price\", fontsize=12)\n",
    "\n",
    "        # plot stock prices at the current step\n",
    "        for i in range(frame + 1):\n",
    "            ax.plot([i] * (i + 1), stock_tree[:i + 1, i], 'bo-', markersize=8, label='Stock' if i == 0 else \"\")\n",
    "\n",
    "        # plot option prices at the current step\n",
    "        for i in range(frame + 1):\n",
    "            ax.plot([i] * (i + 1), option_tree[:i + 1, i], 'ro--', markersize=8, label='Option Price' if i == 0 else \"\")\n",
    "\n",
    "        # draw arrows to indicate backward induction for option pricing\n",
    "        if frame > 0:\n",
    "            for j in range(frame):\n",
    "                for i in range(j + 1):\n",
    "                    ax.add_patch(FancyArrowPatch((j, stock_tree[i, j]), (j + 1, stock_tree[i, j + 1]), color='gray', arrowstyle='->', mutation_scale=10))\n",
    "                    ax.add_patch(FancyArrowPatch((j, stock_tree[i, j]), (j + 1, stock_tree[i + 1, j + 1]), color='gray', arrowstyle='->', mutation_scale=10))\n",
    "        \n",
    "        # highlight the final payoff at maturity\n",
    "        if frame == n_steps:\n",
    "            ax.fill_between(np.arange(n_steps + 1), option_tree[:, n_steps], color='green', alpha=0.45, label='Early Exercise Region')\n",
    "\n",
    "        # add labels and legend\n",
    "        ax.legend(loc='upper left')\n",
    "\n",
    "    # create animation\n",
    "    ani = FuncAnimation(fig, update, frames=range(n_steps + 1), repeat=False)\n",
    "    \n",
    "    return ani\n",
    "\n",
    "# display the animation inline in jupyter\n",
    "ani = create_option_pricing_gif();\n",
    "HTML(ani.to_jshtml())\n",
    "ani.save(\"option_pricing.gif\", writer=PillowWriter(fps=10), dpi=300)"
   ]
  },
  {
   "cell_type": "code",
   "execution_count": null,
   "id": "a6a79d1a-aad8-45b3-bc07-7a8340b2f6d5",
   "metadata": {},
   "outputs": [],
   "source": []
  },
  {
   "cell_type": "code",
   "execution_count": null,
   "id": "9651e9e7-a13e-4f40-84b9-9f6ad049b16e",
   "metadata": {},
   "outputs": [],
   "source": []
  },
  {
   "cell_type": "code",
   "execution_count": null,
   "id": "e2b0072a-6b98-4680-8cfc-12df50f822f3",
   "metadata": {},
   "outputs": [],
   "source": []
  },
  {
   "cell_type": "code",
   "execution_count": null,
   "id": "4d5c2a0f-7edd-457c-a521-be566191045d",
   "metadata": {},
   "outputs": [],
   "source": []
  },
  {
   "cell_type": "code",
   "execution_count": null,
   "id": "72a2acb1-fc46-412b-8577-96e87d9301d5",
   "metadata": {},
   "outputs": [],
   "source": []
  }
 ],
 "metadata": {
  "kernelspec": {
   "display_name": "Python 3 (ipykernel)",
   "language": "python",
   "name": "python3"
  },
  "language_info": {
   "codemirror_mode": {
    "name": "ipython",
    "version": 3
   },
   "file_extension": ".py",
   "mimetype": "text/x-python",
   "name": "python",
   "nbconvert_exporter": "python",
   "pygments_lexer": "ipython3",
   "version": "3.12.4"
  }
 },
 "nbformat": 4,
 "nbformat_minor": 5
}
